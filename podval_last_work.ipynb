{
 "cells": [
  {
   "cell_type": "markdown",
   "metadata": {},
   "source": [
    "# Техническое задание"
   ]
  },
  {
   "cell_type": "markdown",
   "metadata": {},
   "source": [
    "Построить модель обучения, предсказывающую отсутствие товара на полке в момент времени без продаж, используя оценку вероятности отсутствия товара."
   ]
  },
  {
   "cell_type": "markdown",
   "metadata": {},
   "source": [
    "# Предоставленные данные"
   ]
  },
  {
   "cell_type": "markdown",
   "metadata": {},
   "source": [
    "Заказчиком был предоставлен к следующим таблицам в БД (microsoft sql):\n",
    "1) dbo.Features - основной датасет состоящий из столбцов с магазинами, товарами, датой получения информации о наличии товара на полке, вероятность отсутствия, истинный результат (1 - отсутствие) и столбцы признаков.\n",
    "2) dbo.LocationStateHourSales - статистика ежечасных продаж товаров по магазинам\n",
    "3) dbo.LocationStateStocks - информация по остаткам товаров в магазинах<br>\n",
    "\n",
    "Для записей из dbo.Features с отсутствующими значениями IsCorrect (отсутствия товара) нужно предсказать."
   ]
  },
  {
   "cell_type": "markdown",
   "metadata": {},
   "source": [
    "Запрос для примера:<br>\n",
    "query_features = \"select * from dbo.Features\"<br>\n",
    "df = pd.read_sql(query_features, conn)<br>\n",
    "df <br>"
   ]
  },
  {
   "cell_type": "markdown",
   "metadata": {},
   "source": [
    "# Импорт необходимых библиотек"
   ]
  },
  {
   "cell_type": "code",
   "execution_count": 104,
   "metadata": {},
   "outputs": [],
   "source": [
    "#pip install pyodbc\n",
    "#!pip install seaborn\n"
   ]
  },
  {
   "cell_type": "code",
   "execution_count": 105,
   "metadata": {},
   "outputs": [],
   "source": [
    "import datetime\n",
    "import pyodbc\n",
    "import pandas as pd\n",
    "import numpy as np\n",
    "import matplotlib.pyplot as plt\n",
    "\n",
    "import seaborn as sns\n",
    "import phik\n",
    "from phik.report import plot_correlation_matrix\n",
    "import shap\n",
    "\n",
    "import warnings\n",
    "warnings.filterwarnings(\"ignore\")\n",
    "\n",
    "from sklearn.impute import SimpleImputer\n",
    "from sklearn.metrics import roc_auc_score, confusion_matrix, roc_curve, accuracy_score\n",
    "from catboost import CatBoostClassifier"
   ]
  },
  {
   "cell_type": "markdown",
   "metadata": {},
   "source": [
    "# Загрузка данных"
   ]
  },
  {
   "cell_type": "markdown",
   "metadata": {},
   "source": [
    "Доступ к базе"
   ]
  },
  {
   "cell_type": "code",
   "execution_count": 106,
   "metadata": {},
   "outputs": [],
   "source": [
    "# Параметры подключеия к базе\n",
    "\n",
    "conn_str = \"\"\"\n",
    "    Driver={ODBC Driver 17 for SQL Server};\n",
    "    Server=109.71.11.235;\n",
    "    Database=GFC.Hackathon;\n",
    "    UID=participant;\n",
    "    PWD=AiNRYmEatiBL;\n",
    "\"\"\"\n",
    "\n",
    "conn = pyodbc.connect(conn_str)"
   ]
  },
  {
   "cell_type": "markdown",
   "metadata": {},
   "source": [
    "Блок функций"
   ]
  },
  {
   "cell_type": "code",
   "execution_count": 107,
   "metadata": {},
   "outputs": [],
   "source": [
    "# Получение количества и даты последней продажи товара на момент выгрузки данных\n",
    "def add_sales_sale_sql (row, conn=conn):\n",
    "    dt = str(row['ValidationDateTime'])[:-3]\n",
    "    s1_query = \"select top 1 (CAST(Datetime as datetime)) as dt,\\\n",
    "                Quantity as qua\\\n",
    "                from dbo.LocationStateHourSales\\\n",
    "                where (LocationId = \"+str(row['LocationId'])+\") AND \\\n",
    "                      (ProductId = \"+str(row['ProductId'])+\") AND \\\n",
    "                      (CAST(Datetime as datetime) < CAST('\"+str(dt)+\"' as datetime))\\\n",
    "                order by dt DESC\"   \n",
    "    s1 = pd.read_sql(s1_query, conn)\n",
    "    row['last_sale'] = (s1.loc[0]['dt'])\n",
    "    row['last_sale_units'] = (s1.loc[0]['qua'])\n",
    "    print('-', end='')\n",
    "    return row\n",
    "\n",
    "# Получение остатков товара на момент выгрузки данных\n",
    "def add_sales_stock_sql (row, conn=conn):\n",
    "    s1_query = \"select top 1 Quantity, \\\n",
    "                             CAST(Datetime as datetime) as dt\\\n",
    "                from dbo.LocationStateStocks\\\n",
    "                where (LocationId = \"+str(row['LocationId'])+\") AND \\\n",
    "                      (ProductId = \"+str(row['ProductId'])+\") AND \\\n",
    "                      (CAST(Datetime as datetime) < CAST('\"+str(dt)+\"' as datetime))\\\n",
    "                order by dt DESC\"   \n",
    "    s1 = pd.read_sql(s1_query, conn)\n",
    "    row['last_stock'] = (s1.loc[0]['Quantity'])\n",
    "    return row\n",
    "\n",
    "# Сокращение для выгрузки данных из базы\n",
    "def sql_query(query, conn=conn):\n",
    "     return pd.read_sql(query, conn)"
   ]
  },
  {
   "cell_type": "markdown",
   "metadata": {},
   "source": [
    "Выгрузка тренировочной выборки"
   ]
  },
  {
   "cell_type": "code",
   "execution_count": 108,
   "metadata": {},
   "outputs": [
    {
     "data": {
      "text/html": [
       "<div>\n",
       "<style scoped>\n",
       "    .dataframe tbody tr th:only-of-type {\n",
       "        vertical-align: middle;\n",
       "    }\n",
       "\n",
       "    .dataframe tbody tr th {\n",
       "        vertical-align: top;\n",
       "    }\n",
       "\n",
       "    .dataframe thead th {\n",
       "        text-align: right;\n",
       "    }\n",
       "</style>\n",
       "<table border=\"1\" class=\"dataframe\">\n",
       "  <thead>\n",
       "    <tr style=\"text-align: right;\">\n",
       "      <th></th>\n",
       "      <th>LocationId</th>\n",
       "      <th>ProductId</th>\n",
       "      <th>ValidationDateTime</th>\n",
       "      <th>Probability</th>\n",
       "      <th>IsCorrect</th>\n",
       "      <th>Column6</th>\n",
       "      <th>Column7</th>\n",
       "      <th>Column8</th>\n",
       "      <th>Column9</th>\n",
       "      <th>Column10</th>\n",
       "      <th>...</th>\n",
       "      <th>Column58</th>\n",
       "      <th>Column59</th>\n",
       "      <th>Column60</th>\n",
       "      <th>Column61</th>\n",
       "      <th>Column62</th>\n",
       "      <th>Column63</th>\n",
       "      <th>Column64</th>\n",
       "      <th>Column65</th>\n",
       "      <th>Column66</th>\n",
       "      <th>Column67</th>\n",
       "    </tr>\n",
       "  </thead>\n",
       "  <tbody>\n",
       "    <tr>\n",
       "      <th>0</th>\n",
       "      <td>63</td>\n",
       "      <td>288527</td>\n",
       "      <td>2023-06-28 14:57:07</td>\n",
       "      <td>0.416474</td>\n",
       "      <td>False</td>\n",
       "      <td>86.0</td>\n",
       "      <td>85.0</td>\n",
       "      <td>0.011628</td>\n",
       "      <td>None</td>\n",
       "      <td>None</td>\n",
       "      <td>...</td>\n",
       "      <td>0.0</td>\n",
       "      <td>0.0</td>\n",
       "      <td>0.0</td>\n",
       "      <td>0.0</td>\n",
       "      <td>1.0</td>\n",
       "      <td>0.0</td>\n",
       "      <td>0.0</td>\n",
       "      <td>0.0</td>\n",
       "      <td>None</td>\n",
       "      <td>0.0</td>\n",
       "    </tr>\n",
       "    <tr>\n",
       "      <th>1</th>\n",
       "      <td>63</td>\n",
       "      <td>288606</td>\n",
       "      <td>2023-06-01 15:32:31</td>\n",
       "      <td>0.687710</td>\n",
       "      <td>False</td>\n",
       "      <td>8.0</td>\n",
       "      <td>7.0</td>\n",
       "      <td>0.125000</td>\n",
       "      <td>None</td>\n",
       "      <td>None</td>\n",
       "      <td>...</td>\n",
       "      <td>0.0</td>\n",
       "      <td>0.0</td>\n",
       "      <td>0.0</td>\n",
       "      <td>0.0</td>\n",
       "      <td>1.0</td>\n",
       "      <td>0.0</td>\n",
       "      <td>0.0</td>\n",
       "      <td>0.0</td>\n",
       "      <td>None</td>\n",
       "      <td>0.0</td>\n",
       "    </tr>\n",
       "    <tr>\n",
       "      <th>2</th>\n",
       "      <td>63</td>\n",
       "      <td>288606</td>\n",
       "      <td>2023-06-03 12:55:49</td>\n",
       "      <td>0.810382</td>\n",
       "      <td>False</td>\n",
       "      <td>10.0</td>\n",
       "      <td>9.0</td>\n",
       "      <td>0.100000</td>\n",
       "      <td>None</td>\n",
       "      <td>None</td>\n",
       "      <td>...</td>\n",
       "      <td>0.0</td>\n",
       "      <td>0.0</td>\n",
       "      <td>0.0</td>\n",
       "      <td>0.0</td>\n",
       "      <td>1.0</td>\n",
       "      <td>0.0</td>\n",
       "      <td>0.0</td>\n",
       "      <td>0.0</td>\n",
       "      <td>None</td>\n",
       "      <td>0.0</td>\n",
       "    </tr>\n",
       "    <tr>\n",
       "      <th>3</th>\n",
       "      <td>63</td>\n",
       "      <td>288606</td>\n",
       "      <td>2023-06-07 14:57:38</td>\n",
       "      <td>0.312500</td>\n",
       "      <td>False</td>\n",
       "      <td>4.0</td>\n",
       "      <td>3.0</td>\n",
       "      <td>0.250000</td>\n",
       "      <td>None</td>\n",
       "      <td>None</td>\n",
       "      <td>...</td>\n",
       "      <td>0.0</td>\n",
       "      <td>0.0</td>\n",
       "      <td>0.0</td>\n",
       "      <td>0.0</td>\n",
       "      <td>1.0</td>\n",
       "      <td>0.0</td>\n",
       "      <td>0.0</td>\n",
       "      <td>0.0</td>\n",
       "      <td>None</td>\n",
       "      <td>0.0</td>\n",
       "    </tr>\n",
       "    <tr>\n",
       "      <th>4</th>\n",
       "      <td>63</td>\n",
       "      <td>288606</td>\n",
       "      <td>2023-06-09 14:56:35</td>\n",
       "      <td>0.605429</td>\n",
       "      <td>False</td>\n",
       "      <td>6.0</td>\n",
       "      <td>5.0</td>\n",
       "      <td>0.166667</td>\n",
       "      <td>None</td>\n",
       "      <td>None</td>\n",
       "      <td>...</td>\n",
       "      <td>0.0</td>\n",
       "      <td>0.0</td>\n",
       "      <td>0.0</td>\n",
       "      <td>0.0</td>\n",
       "      <td>1.0</td>\n",
       "      <td>0.0</td>\n",
       "      <td>0.0</td>\n",
       "      <td>0.0</td>\n",
       "      <td>None</td>\n",
       "      <td>0.0</td>\n",
       "    </tr>\n",
       "  </tbody>\n",
       "</table>\n",
       "<p>5 rows × 66 columns</p>\n",
       "</div>"
      ],
      "text/plain": [
       "   LocationId  ProductId  ValidationDateTime  Probability  IsCorrect  Column6  \\\n",
       "0          63     288527 2023-06-28 14:57:07     0.416474      False     86.0   \n",
       "1          63     288606 2023-06-01 15:32:31     0.687710      False      8.0   \n",
       "2          63     288606 2023-06-03 12:55:49     0.810382      False     10.0   \n",
       "3          63     288606 2023-06-07 14:57:38     0.312500      False      4.0   \n",
       "4          63     288606 2023-06-09 14:56:35     0.605429      False      6.0   \n",
       "\n",
       "   Column7   Column8 Column9 Column10  ...  Column58  Column59  Column60  \\\n",
       "0     85.0  0.011628    None     None  ...       0.0       0.0       0.0   \n",
       "1      7.0  0.125000    None     None  ...       0.0       0.0       0.0   \n",
       "2      9.0  0.100000    None     None  ...       0.0       0.0       0.0   \n",
       "3      3.0  0.250000    None     None  ...       0.0       0.0       0.0   \n",
       "4      5.0  0.166667    None     None  ...       0.0       0.0       0.0   \n",
       "\n",
       "   Column61  Column62  Column63  Column64  Column65  Column66  Column67  \n",
       "0       0.0       1.0       0.0       0.0       0.0      None       0.0  \n",
       "1       0.0       1.0       0.0       0.0       0.0      None       0.0  \n",
       "2       0.0       1.0       0.0       0.0       0.0      None       0.0  \n",
       "3       0.0       1.0       0.0       0.0       0.0      None       0.0  \n",
       "4       0.0       1.0       0.0       0.0       0.0      None       0.0  \n",
       "\n",
       "[5 rows x 66 columns]"
      ]
     },
     "execution_count": 108,
     "metadata": {},
     "output_type": "execute_result"
    }
   ],
   "source": [
    "# для обучения модели используем записи с IsCorrect is not null\n",
    "train_query = \"select * from dbo.Features f where f.IsCorrect is not null\"\n",
    "train_df = pd.read_sql(train_query, conn)\n",
    "train_df.head(5)"
   ]
  },
  {
   "cell_type": "markdown",
   "metadata": {},
   "source": [
    "Выгрузка тестовой выборки"
   ]
  },
  {
   "cell_type": "code",
   "execution_count": 109,
   "metadata": {},
   "outputs": [
    {
     "data": {
      "text/html": [
       "<div>\n",
       "<style scoped>\n",
       "    .dataframe tbody tr th:only-of-type {\n",
       "        vertical-align: middle;\n",
       "    }\n",
       "\n",
       "    .dataframe tbody tr th {\n",
       "        vertical-align: top;\n",
       "    }\n",
       "\n",
       "    .dataframe thead th {\n",
       "        text-align: right;\n",
       "    }\n",
       "</style>\n",
       "<table border=\"1\" class=\"dataframe\">\n",
       "  <thead>\n",
       "    <tr style=\"text-align: right;\">\n",
       "      <th></th>\n",
       "      <th>LocationId</th>\n",
       "      <th>ProductId</th>\n",
       "      <th>ValidationDateTime</th>\n",
       "      <th>Probability</th>\n",
       "      <th>IsCorrect</th>\n",
       "      <th>Column6</th>\n",
       "      <th>Column7</th>\n",
       "      <th>Column8</th>\n",
       "      <th>Column9</th>\n",
       "      <th>Column10</th>\n",
       "      <th>...</th>\n",
       "      <th>Column58</th>\n",
       "      <th>Column59</th>\n",
       "      <th>Column60</th>\n",
       "      <th>Column61</th>\n",
       "      <th>Column62</th>\n",
       "      <th>Column63</th>\n",
       "      <th>Column64</th>\n",
       "      <th>Column65</th>\n",
       "      <th>Column66</th>\n",
       "      <th>Column67</th>\n",
       "    </tr>\n",
       "  </thead>\n",
       "  <tbody>\n",
       "    <tr>\n",
       "      <th>0</th>\n",
       "      <td>63</td>\n",
       "      <td>288606</td>\n",
       "      <td>2023-07-25 14:57:04</td>\n",
       "      <td>0.406708</td>\n",
       "      <td>None</td>\n",
       "      <td>14.0</td>\n",
       "      <td>13.0</td>\n",
       "      <td>0.071429</td>\n",
       "      <td>None</td>\n",
       "      <td>None</td>\n",
       "      <td>...</td>\n",
       "      <td>0.0</td>\n",
       "      <td>0.0</td>\n",
       "      <td>0.0</td>\n",
       "      <td>0.0</td>\n",
       "      <td>1</td>\n",
       "      <td>0</td>\n",
       "      <td>0.0</td>\n",
       "      <td>0</td>\n",
       "      <td>None</td>\n",
       "      <td>0</td>\n",
       "    </tr>\n",
       "    <tr>\n",
       "      <th>1</th>\n",
       "      <td>63</td>\n",
       "      <td>288606</td>\n",
       "      <td>2023-08-03 14:58:53</td>\n",
       "      <td>0.460643</td>\n",
       "      <td>None</td>\n",
       "      <td>2.0</td>\n",
       "      <td>1.0</td>\n",
       "      <td>0.500000</td>\n",
       "      <td>None</td>\n",
       "      <td>None</td>\n",
       "      <td>...</td>\n",
       "      <td>0.0</td>\n",
       "      <td>0.0</td>\n",
       "      <td>0.0</td>\n",
       "      <td>0.0</td>\n",
       "      <td>1</td>\n",
       "      <td>0</td>\n",
       "      <td>0.0</td>\n",
       "      <td>0</td>\n",
       "      <td>None</td>\n",
       "      <td>0</td>\n",
       "    </tr>\n",
       "    <tr>\n",
       "      <th>2</th>\n",
       "      <td>63</td>\n",
       "      <td>288783</td>\n",
       "      <td>2023-07-24 14:57:11</td>\n",
       "      <td>0.404959</td>\n",
       "      <td>None</td>\n",
       "      <td>4.0</td>\n",
       "      <td>4.0</td>\n",
       "      <td>0.000000</td>\n",
       "      <td>None</td>\n",
       "      <td>None</td>\n",
       "      <td>...</td>\n",
       "      <td>0.0</td>\n",
       "      <td>0.0</td>\n",
       "      <td>0.0</td>\n",
       "      <td>0.0</td>\n",
       "      <td>1</td>\n",
       "      <td>0</td>\n",
       "      <td>0.0</td>\n",
       "      <td>0</td>\n",
       "      <td>None</td>\n",
       "      <td>0</td>\n",
       "    </tr>\n",
       "    <tr>\n",
       "      <th>3</th>\n",
       "      <td>63</td>\n",
       "      <td>288783</td>\n",
       "      <td>2023-08-03 14:57:39</td>\n",
       "      <td>0.659497</td>\n",
       "      <td>None</td>\n",
       "      <td>0.0</td>\n",
       "      <td>-1.0</td>\n",
       "      <td>NaN</td>\n",
       "      <td>None</td>\n",
       "      <td>None</td>\n",
       "      <td>...</td>\n",
       "      <td>0.0</td>\n",
       "      <td>0.0</td>\n",
       "      <td>0.0</td>\n",
       "      <td>0.0</td>\n",
       "      <td>1</td>\n",
       "      <td>0</td>\n",
       "      <td>0.0</td>\n",
       "      <td>0</td>\n",
       "      <td>None</td>\n",
       "      <td>0</td>\n",
       "    </tr>\n",
       "    <tr>\n",
       "      <th>4</th>\n",
       "      <td>63</td>\n",
       "      <td>289136</td>\n",
       "      <td>2023-07-24 14:57:09</td>\n",
       "      <td>0.299769</td>\n",
       "      <td>None</td>\n",
       "      <td>6.0</td>\n",
       "      <td>6.0</td>\n",
       "      <td>0.000000</td>\n",
       "      <td>None</td>\n",
       "      <td>None</td>\n",
       "      <td>...</td>\n",
       "      <td>0.0</td>\n",
       "      <td>0.0</td>\n",
       "      <td>0.0</td>\n",
       "      <td>0.0</td>\n",
       "      <td>1</td>\n",
       "      <td>0</td>\n",
       "      <td>0.0</td>\n",
       "      <td>0</td>\n",
       "      <td>None</td>\n",
       "      <td>0</td>\n",
       "    </tr>\n",
       "  </tbody>\n",
       "</table>\n",
       "<p>5 rows × 66 columns</p>\n",
       "</div>"
      ],
      "text/plain": [
       "   LocationId  ProductId  ValidationDateTime  Probability IsCorrect  Column6  \\\n",
       "0          63     288606 2023-07-25 14:57:04     0.406708      None     14.0   \n",
       "1          63     288606 2023-08-03 14:58:53     0.460643      None      2.0   \n",
       "2          63     288783 2023-07-24 14:57:11     0.404959      None      4.0   \n",
       "3          63     288783 2023-08-03 14:57:39     0.659497      None      0.0   \n",
       "4          63     289136 2023-07-24 14:57:09     0.299769      None      6.0   \n",
       "\n",
       "   Column7   Column8 Column9 Column10  ...  Column58  Column59  Column60  \\\n",
       "0     13.0  0.071429    None     None  ...       0.0       0.0       0.0   \n",
       "1      1.0  0.500000    None     None  ...       0.0       0.0       0.0   \n",
       "2      4.0  0.000000    None     None  ...       0.0       0.0       0.0   \n",
       "3     -1.0       NaN    None     None  ...       0.0       0.0       0.0   \n",
       "4      6.0  0.000000    None     None  ...       0.0       0.0       0.0   \n",
       "\n",
       "   Column61  Column62  Column63  Column64  Column65  Column66  Column67  \n",
       "0       0.0         1         0       0.0         0      None         0  \n",
       "1       0.0         1         0       0.0         0      None         0  \n",
       "2       0.0         1         0       0.0         0      None         0  \n",
       "3       0.0         1         0       0.0         0      None         0  \n",
       "4       0.0         1         0       0.0         0      None         0  \n",
       "\n",
       "[5 rows x 66 columns]"
      ]
     },
     "execution_count": 109,
     "metadata": {},
     "output_type": "execute_result"
    }
   ],
   "source": [
    "# тестовая выборка (то, что используется в финальном зачете) - записи с IsCorrect is null\n",
    "test_query = \"select * from dbo.Features f where f.IsCorrect is null\"\n",
    "test_df = pd.read_sql(test_query, conn)\n",
    "test_df.head(5)"
   ]
  },
  {
   "cell_type": "markdown",
   "metadata": {},
   "source": [
    "Знакомство с стаблицами sales и stocks"
   ]
  },
  {
   "cell_type": "code",
   "execution_count": 110,
   "metadata": {},
   "outputs": [
    {
     "data": {
      "text/html": [
       "<div>\n",
       "<style scoped>\n",
       "    .dataframe tbody tr th:only-of-type {\n",
       "        vertical-align: middle;\n",
       "    }\n",
       "\n",
       "    .dataframe tbody tr th {\n",
       "        vertical-align: top;\n",
       "    }\n",
       "\n",
       "    .dataframe thead th {\n",
       "        text-align: right;\n",
       "    }\n",
       "</style>\n",
       "<table border=\"1\" class=\"dataframe\">\n",
       "  <thead>\n",
       "    <tr style=\"text-align: right;\">\n",
       "      <th></th>\n",
       "      <th>LocationId</th>\n",
       "      <th>ProductId</th>\n",
       "      <th>Datetime</th>\n",
       "      <th>Quantity</th>\n",
       "      <th>PriceSum</th>\n",
       "      <th>Date</th>\n",
       "    </tr>\n",
       "  </thead>\n",
       "  <tbody>\n",
       "    <tr>\n",
       "      <th>0</th>\n",
       "      <td>63</td>\n",
       "      <td>288606</td>\n",
       "      <td>2023-05-01 12:00:00</td>\n",
       "      <td>6.0</td>\n",
       "      <td>179.940002</td>\n",
       "      <td>2023-05-01</td>\n",
       "    </tr>\n",
       "    <tr>\n",
       "      <th>1</th>\n",
       "      <td>63</td>\n",
       "      <td>288606</td>\n",
       "      <td>2023-05-01 13:00:00</td>\n",
       "      <td>2.0</td>\n",
       "      <td>59.980000</td>\n",
       "      <td>2023-05-01</td>\n",
       "    </tr>\n",
       "    <tr>\n",
       "      <th>2</th>\n",
       "      <td>63</td>\n",
       "      <td>288783</td>\n",
       "      <td>2023-05-01 17:00:00</td>\n",
       "      <td>2.0</td>\n",
       "      <td>259.799988</td>\n",
       "      <td>2023-05-01</td>\n",
       "    </tr>\n",
       "    <tr>\n",
       "      <th>3</th>\n",
       "      <td>63</td>\n",
       "      <td>288913</td>\n",
       "      <td>2023-05-01 16:00:00</td>\n",
       "      <td>1.0</td>\n",
       "      <td>129.899994</td>\n",
       "      <td>2023-05-01</td>\n",
       "    </tr>\n",
       "    <tr>\n",
       "      <th>4</th>\n",
       "      <td>63</td>\n",
       "      <td>289117</td>\n",
       "      <td>2023-05-01 11:00:00</td>\n",
       "      <td>3.0</td>\n",
       "      <td>92.970001</td>\n",
       "      <td>2023-05-01</td>\n",
       "    </tr>\n",
       "  </tbody>\n",
       "</table>\n",
       "</div>"
      ],
      "text/plain": [
       "   LocationId  ProductId            Datetime  Quantity    PriceSum        Date\n",
       "0          63     288606 2023-05-01 12:00:00       6.0  179.940002  2023-05-01\n",
       "1          63     288606 2023-05-01 13:00:00       2.0   59.980000  2023-05-01\n",
       "2          63     288783 2023-05-01 17:00:00       2.0  259.799988  2023-05-01\n",
       "3          63     288913 2023-05-01 16:00:00       1.0  129.899994  2023-05-01\n",
       "4          63     289117 2023-05-01 11:00:00       3.0   92.970001  2023-05-01"
      ]
     },
     "execution_count": 110,
     "metadata": {},
     "output_type": "execute_result"
    }
   ],
   "source": [
    "# дополнительные таблицы с почасовыми продажами и остатками - мы ждем отвас новых интересных признаков :)\n",
    "sales_query = \"select top 5 * from dbo.LocationStateHourSales\" \n",
    "sales = pd.read_sql(sales_query, conn)\n",
    "sales"
   ]
  },
  {
   "cell_type": "code",
   "execution_count": 111,
   "metadata": {},
   "outputs": [
    {
     "data": {
      "text/html": [
       "<div>\n",
       "<style scoped>\n",
       "    .dataframe tbody tr th:only-of-type {\n",
       "        vertical-align: middle;\n",
       "    }\n",
       "\n",
       "    .dataframe tbody tr th {\n",
       "        vertical-align: top;\n",
       "    }\n",
       "\n",
       "    .dataframe thead th {\n",
       "        text-align: right;\n",
       "    }\n",
       "</style>\n",
       "<table border=\"1\" class=\"dataframe\">\n",
       "  <thead>\n",
       "    <tr style=\"text-align: right;\">\n",
       "      <th></th>\n",
       "      <th>LocationId</th>\n",
       "      <th>ProductId</th>\n",
       "      <th>Datetime</th>\n",
       "      <th>Quantity</th>\n",
       "      <th>Date</th>\n",
       "    </tr>\n",
       "  </thead>\n",
       "  <tbody>\n",
       "    <tr>\n",
       "      <th>0</th>\n",
       "      <td>63</td>\n",
       "      <td>288524</td>\n",
       "      <td>2023-05-01</td>\n",
       "      <td>21.0</td>\n",
       "      <td>2023-05-01</td>\n",
       "    </tr>\n",
       "    <tr>\n",
       "      <th>1</th>\n",
       "      <td>63</td>\n",
       "      <td>288527</td>\n",
       "      <td>2023-05-01</td>\n",
       "      <td>181.0</td>\n",
       "      <td>2023-05-01</td>\n",
       "    </tr>\n",
       "    <tr>\n",
       "      <th>2</th>\n",
       "      <td>63</td>\n",
       "      <td>288606</td>\n",
       "      <td>2023-05-01</td>\n",
       "      <td>6.0</td>\n",
       "      <td>2023-05-01</td>\n",
       "    </tr>\n",
       "    <tr>\n",
       "      <th>3</th>\n",
       "      <td>63</td>\n",
       "      <td>288783</td>\n",
       "      <td>2023-05-01</td>\n",
       "      <td>11.0</td>\n",
       "      <td>2023-05-01</td>\n",
       "    </tr>\n",
       "    <tr>\n",
       "      <th>4</th>\n",
       "      <td>63</td>\n",
       "      <td>288817</td>\n",
       "      <td>2023-05-01</td>\n",
       "      <td>18.0</td>\n",
       "      <td>2023-05-01</td>\n",
       "    </tr>\n",
       "  </tbody>\n",
       "</table>\n",
       "</div>"
      ],
      "text/plain": [
       "   LocationId  ProductId   Datetime  Quantity        Date\n",
       "0          63     288524 2023-05-01      21.0  2023-05-01\n",
       "1          63     288527 2023-05-01     181.0  2023-05-01\n",
       "2          63     288606 2023-05-01       6.0  2023-05-01\n",
       "3          63     288783 2023-05-01      11.0  2023-05-01\n",
       "4          63     288817 2023-05-01      18.0  2023-05-01"
      ]
     },
     "execution_count": 111,
     "metadata": {},
     "output_type": "execute_result"
    }
   ],
   "source": [
    "stocks_query = \"select top 5 * from dbo.LocationStateStocks\" \n",
    "stocks = pd.read_sql(stocks_query, conn)\n",
    "stocks"
   ]
  },
  {
   "cell_type": "markdown",
   "metadata": {},
   "source": [
    "# Краткий анализ данных"
   ]
  },
  {
   "cell_type": "markdown",
   "metadata": {},
   "source": [
    "Выясним количество магазинов и продуктов"
   ]
  },
  {
   "cell_type": "code",
   "execution_count": 112,
   "metadata": {},
   "outputs": [
    {
     "name": "stdout",
     "output_type": "stream",
     "text": [
      "Количество магазинов: 323\n",
      "Количество товаров: 3156\n"
     ]
    }
   ],
   "source": [
    "print('Количество магазинов:', len(train_df['LocationId'].unique()))\n",
    "print('Количество товаров:', len(train_df['ProductId'].unique()))"
   ]
  },
  {
   "cell_type": "markdown",
   "metadata": {},
   "source": [
    "Посмотрим как часто интересуются оттсутствием на полке того или иного товара"
   ]
  },
  {
   "cell_type": "code",
   "execution_count": 113,
   "metadata": {},
   "outputs": [
    {
     "data": {
      "image/png": "[encoded data removed]",
      "text/plain": [
       "<Figure size 1300x500 with 1 Axes>"
      ]
     },
     "metadata": {},
     "output_type": "display_data"
    }
   ],
   "source": [
    "train_df.groupby('IsCorrect')['ProductId'].hist(bins=30, alpha=0.5, figsize=(13,5))\n",
    "plt.title('Гистограмма по параметру \"ProductId\"')\n",
    "plt.xlabel('ProductId')\n",
    "plt.ylabel('количество')\n",
    "plt.show() "
   ]
  },
  {
   "cell_type": "markdown",
   "metadata": {},
   "source": [
    "Баланс классов"
   ]
  },
  {
   "cell_type": "code",
   "execution_count": 114,
   "metadata": {},
   "outputs": [
    {
     "data": {
      "image/png": "[encoded data removed]",
      "text/plain": [
       "<Figure size 600x600 with 1 Axes>"
      ]
     },
     "metadata": {},
     "output_type": "display_data"
    }
   ],
   "source": [
    "train_df.groupby('IsCorrect').size().plot(kind='pie', autopct='%1.1f%%', startangle=90, figsize=(6,6), \\\n",
    "                                            labels = None)\n",
    "plt.legend(['0', '1'])\n",
    "plt.title('Баланс классов целевого признака')\n",
    "plt.ylabel('')\n",
    "plt.show();"
   ]
  },
  {
   "cell_type": "markdown",
   "metadata": {},
   "source": [
    "# Предобработка данных"
   ]
  },
  {
   "cell_type": "markdown",
   "metadata": {},
   "source": [
    "### Преобразования дат в корректный формат"
   ]
  },
  {
   "cell_type": "code",
   "execution_count": 115,
   "metadata": {},
   "outputs": [],
   "source": [
    "train_df.sort_values('ValidationDateTime', inplace=True)\n",
    "test_df.sort_values('ValidationDateTime', inplace=True)"
   ]
  },
  {
   "cell_type": "markdown",
   "metadata": {},
   "source": [
    "### Общая информация об обучающей выборке"
   ]
  },
  {
   "cell_type": "code",
   "execution_count": 116,
   "metadata": {},
   "outputs": [
    {
     "name": "stdout",
     "output_type": "stream",
     "text": [
      "<class 'pandas.core.frame.DataFrame'>\n",
      "Index: 135847 entries, 117948 to 45214\n",
      "Data columns (total 66 columns):\n",
      " #   Column              Non-Null Count   Dtype         \n",
      "---  ------              --------------   -----         \n",
      " 0   LocationId          135847 non-null  int64         \n",
      " 1   ProductId           135847 non-null  int64         \n",
      " 2   ValidationDateTime  135847 non-null  datetime64[ns]\n",
      " 3   Probability         135667 non-null  float64       \n",
      " 4   IsCorrect           135847 non-null  bool          \n",
      " 5   Column6             135847 non-null  float64       \n",
      " 6   Column7             135847 non-null  float64       \n",
      " 7   Column8             107830 non-null  float64       \n",
      " 8   Column9             0 non-null       object        \n",
      " 9   Column10            0 non-null       object        \n",
      " 10  Column11            135847 non-null  float64       \n",
      " 11  Column12            135847 non-null  int64         \n",
      " 12  Column13            40566 non-null   float64       \n",
      " 13  Column14            135846 non-null  float64       \n",
      " 14  Column15            135813 non-null  float64       \n",
      " 15  Column16            135813 non-null  float64       \n",
      " 16  Column17            135813 non-null  float64       \n",
      " 17  Column18            135813 non-null  float64       \n",
      " 18  Column19            135847 non-null  bool          \n",
      " 19  Column20            39876 non-null   float64       \n",
      " 20  Column21            108522 non-null  float64       \n",
      " 21  Column22            39876 non-null   float64       \n",
      " 22  Column23            135824 non-null  float64       \n",
      " 23  Column24            135847 non-null  int64         \n",
      " 24  Column25            135847 non-null  int64         \n",
      " 25  Column26            0 non-null       object        \n",
      " 26  Column27            135667 non-null  float64       \n",
      " 27  Column28            67201 non-null   float64       \n",
      " 28  Column29            135667 non-null  float64       \n",
      " 29  Column30            135846 non-null  float64       \n",
      " 30  Column31            135846 non-null  float64       \n",
      " 31  Column32            135846 non-null  float64       \n",
      " 32  Column33            135846 non-null  float64       \n",
      " 33  Column34            135846 non-null  float64       \n",
      " 34  Column35            135846 non-null  float64       \n",
      " 35  Column36            135846 non-null  float64       \n",
      " 36  Column37            135846 non-null  float64       \n",
      " 37  Column38            135846 non-null  float64       \n",
      " 38  Column39            135050 non-null  float64       \n",
      " 39  Column40            135050 non-null  float64       \n",
      " 40  Column41            135050 non-null  float64       \n",
      " 41  Column42            135846 non-null  float64       \n",
      " 42  Column43            135050 non-null  float64       \n",
      " 43  Column44            135050 non-null  float64       \n",
      " 44  Column45            135846 non-null  object        \n",
      " 45  Column46            135049 non-null  object        \n",
      " 46  Column47            135846 non-null  object        \n",
      " 47  Column49            135846 non-null  float64       \n",
      " 48  Column50            135049 non-null  float64       \n",
      " 49  Column51            135049 non-null  float64       \n",
      " 50  Column52            135846 non-null  float64       \n",
      " 51  Column53            135846 non-null  float64       \n",
      " 52  Column54            135846 non-null  float64       \n",
      " 53  Column55            135846 non-null  float64       \n",
      " 54  Column56            135846 non-null  float64       \n",
      " 55  Column57            135846 non-null  float64       \n",
      " 56  Column58            135846 non-null  float64       \n",
      " 57  Column59            135846 non-null  float64       \n",
      " 58  Column60            135846 non-null  float64       \n",
      " 59  Column61            135846 non-null  float64       \n",
      " 60  Column62            135846 non-null  float64       \n",
      " 61  Column63            135846 non-null  float64       \n",
      " 62  Column64            135846 non-null  float64       \n",
      " 63  Column65            135846 non-null  float64       \n",
      " 64  Column66            0 non-null       object        \n",
      " 65  Column67            135846 non-null  float64       \n",
      "dtypes: bool(2), datetime64[ns](1), float64(51), int64(5), object(7)\n",
      "memory usage: 67.6+ MB\n"
     ]
    }
   ],
   "source": [
    "train_df.info()"
   ]
  },
  {
   "cell_type": "code",
   "execution_count": 117,
   "metadata": {},
   "outputs": [
    {
     "data": {
      "text/plain": [
       "LocationId                 0\n",
       "ProductId                  0\n",
       "ValidationDateTime         0\n",
       "Probability              180\n",
       "IsCorrect                  0\n",
       "                       ...  \n",
       "Column63                   1\n",
       "Column64                   1\n",
       "Column65                   1\n",
       "Column66              135847\n",
       "Column67                   1\n",
       "Length: 66, dtype: int64"
      ]
     },
     "execution_count": 117,
     "metadata": {},
     "output_type": "execute_result"
    }
   ],
   "source": [
    "train_df.isnull().sum()"
   ]
  },
  {
   "cell_type": "code",
   "execution_count": 118,
   "metadata": {},
   "outputs": [
    {
     "data": {
      "text/html": [
       "<div>\n",
       "<style scoped>\n",
       "    .dataframe tbody tr th:only-of-type {\n",
       "        vertical-align: middle;\n",
       "    }\n",
       "\n",
       "    .dataframe tbody tr th {\n",
       "        vertical-align: top;\n",
       "    }\n",
       "\n",
       "    .dataframe thead th {\n",
       "        text-align: right;\n",
       "    }\n",
       "</style>\n",
       "<table border=\"1\" class=\"dataframe\">\n",
       "  <thead>\n",
       "    <tr style=\"text-align: right;\">\n",
       "      <th></th>\n",
       "      <th>LocationId</th>\n",
       "      <th>ProductId</th>\n",
       "      <th>ValidationDateTime</th>\n",
       "      <th>Probability</th>\n",
       "      <th>Column6</th>\n",
       "      <th>Column7</th>\n",
       "      <th>Column8</th>\n",
       "      <th>Column11</th>\n",
       "      <th>Column12</th>\n",
       "      <th>Column13</th>\n",
       "      <th>...</th>\n",
       "      <th>Column57</th>\n",
       "      <th>Column58</th>\n",
       "      <th>Column59</th>\n",
       "      <th>Column60</th>\n",
       "      <th>Column61</th>\n",
       "      <th>Column62</th>\n",
       "      <th>Column63</th>\n",
       "      <th>Column64</th>\n",
       "      <th>Column65</th>\n",
       "      <th>Column67</th>\n",
       "    </tr>\n",
       "  </thead>\n",
       "  <tbody>\n",
       "    <tr>\n",
       "      <th>count</th>\n",
       "      <td>135847.000000</td>\n",
       "      <td>135847.000000</td>\n",
       "      <td>135847</td>\n",
       "      <td>135667.000000</td>\n",
       "      <td>135847.000000</td>\n",
       "      <td>135847.000000</td>\n",
       "      <td>107830.000000</td>\n",
       "      <td>135847.000000</td>\n",
       "      <td>135847.000000</td>\n",
       "      <td>40566.000000</td>\n",
       "      <td>...</td>\n",
       "      <td>135846.000000</td>\n",
       "      <td>135846.0</td>\n",
       "      <td>135846.0</td>\n",
       "      <td>135846.0</td>\n",
       "      <td>135846.0</td>\n",
       "      <td>135846.0</td>\n",
       "      <td>135846.0</td>\n",
       "      <td>135846.0</td>\n",
       "      <td>135846.0</td>\n",
       "      <td>135846.0</td>\n",
       "    </tr>\n",
       "    <tr>\n",
       "      <th>mean</th>\n",
       "      <td>1669.974317</td>\n",
       "      <td>422605.196604</td>\n",
       "      <td>2023-06-30 16:14:03.369272576</td>\n",
       "      <td>0.670913</td>\n",
       "      <td>4.946373</td>\n",
       "      <td>4.041341</td>\n",
       "      <td>0.352331</td>\n",
       "      <td>4.379663</td>\n",
       "      <td>20.512510</td>\n",
       "      <td>4.453248</td>\n",
       "      <td>...</td>\n",
       "      <td>61.360668</td>\n",
       "      <td>0.0</td>\n",
       "      <td>0.0</td>\n",
       "      <td>0.0</td>\n",
       "      <td>0.0</td>\n",
       "      <td>1.0</td>\n",
       "      <td>0.0</td>\n",
       "      <td>0.0</td>\n",
       "      <td>0.0</td>\n",
       "      <td>0.0</td>\n",
       "    </tr>\n",
       "    <tr>\n",
       "      <th>min</th>\n",
       "      <td>63.000000</td>\n",
       "      <td>288312.000000</td>\n",
       "      <td>2023-06-01 14:44:35.147000</td>\n",
       "      <td>-1.000000</td>\n",
       "      <td>0.000000</td>\n",
       "      <td>-2.000000</td>\n",
       "      <td>0.000000</td>\n",
       "      <td>0.035714</td>\n",
       "      <td>0.000000</td>\n",
       "      <td>0.000000</td>\n",
       "      <td>...</td>\n",
       "      <td>0.200000</td>\n",
       "      <td>0.0</td>\n",
       "      <td>0.0</td>\n",
       "      <td>0.0</td>\n",
       "      <td>0.0</td>\n",
       "      <td>1.0</td>\n",
       "      <td>0.0</td>\n",
       "      <td>0.0</td>\n",
       "      <td>0.0</td>\n",
       "      <td>0.0</td>\n",
       "    </tr>\n",
       "    <tr>\n",
       "      <th>25%</th>\n",
       "      <td>873.000000</td>\n",
       "      <td>357870.000000</td>\n",
       "      <td>2023-06-19 14:58:12</td>\n",
       "      <td>0.475120</td>\n",
       "      <td>1.000000</td>\n",
       "      <td>0.000000</td>\n",
       "      <td>0.076923</td>\n",
       "      <td>2.214286</td>\n",
       "      <td>17.000000</td>\n",
       "      <td>2.058824</td>\n",
       "      <td>...</td>\n",
       "      <td>26.990000</td>\n",
       "      <td>0.0</td>\n",
       "      <td>0.0</td>\n",
       "      <td>0.0</td>\n",
       "      <td>0.0</td>\n",
       "      <td>1.0</td>\n",
       "      <td>0.0</td>\n",
       "      <td>0.0</td>\n",
       "      <td>0.0</td>\n",
       "      <td>0.0</td>\n",
       "    </tr>\n",
       "    <tr>\n",
       "      <th>50%</th>\n",
       "      <td>1736.000000</td>\n",
       "      <td>425848.000000</td>\n",
       "      <td>2023-07-02 15:00:46</td>\n",
       "      <td>0.755140</td>\n",
       "      <td>3.000000</td>\n",
       "      <td>2.000000</td>\n",
       "      <td>0.250000</td>\n",
       "      <td>3.464286</td>\n",
       "      <td>22.000000</td>\n",
       "      <td>3.166667</td>\n",
       "      <td>...</td>\n",
       "      <td>50.990002</td>\n",
       "      <td>0.0</td>\n",
       "      <td>0.0</td>\n",
       "      <td>0.0</td>\n",
       "      <td>0.0</td>\n",
       "      <td>1.0</td>\n",
       "      <td>0.0</td>\n",
       "      <td>0.0</td>\n",
       "      <td>0.0</td>\n",
       "      <td>0.0</td>\n",
       "    </tr>\n",
       "    <tr>\n",
       "      <th>75%</th>\n",
       "      <td>2553.000000</td>\n",
       "      <td>485344.000000</td>\n",
       "      <td>2023-07-12 15:15:56</td>\n",
       "      <td>0.965797</td>\n",
       "      <td>6.000000</td>\n",
       "      <td>5.000000</td>\n",
       "      <td>0.500000</td>\n",
       "      <td>5.250000</td>\n",
       "      <td>26.000000</td>\n",
       "      <td>5.100000</td>\n",
       "      <td>...</td>\n",
       "      <td>78.230001</td>\n",
       "      <td>0.0</td>\n",
       "      <td>0.0</td>\n",
       "      <td>0.0</td>\n",
       "      <td>0.0</td>\n",
       "      <td>1.0</td>\n",
       "      <td>0.0</td>\n",
       "      <td>0.0</td>\n",
       "      <td>0.0</td>\n",
       "      <td>0.0</td>\n",
       "    </tr>\n",
       "    <tr>\n",
       "      <th>max</th>\n",
       "      <td>2950.000000</td>\n",
       "      <td>576749.000000</td>\n",
       "      <td>2023-07-21 17:22:26.517000</td>\n",
       "      <td>1.000000</td>\n",
       "      <td>89.000000</td>\n",
       "      <td>89.000000</td>\n",
       "      <td>2.000000</td>\n",
       "      <td>386.107147</td>\n",
       "      <td>28.000000</td>\n",
       "      <td>386.190491</td>\n",
       "      <td>...</td>\n",
       "      <td>1650.000000</td>\n",
       "      <td>0.0</td>\n",
       "      <td>0.0</td>\n",
       "      <td>0.0</td>\n",
       "      <td>0.0</td>\n",
       "      <td>1.0</td>\n",
       "      <td>0.0</td>\n",
       "      <td>0.0</td>\n",
       "      <td>0.0</td>\n",
       "      <td>0.0</td>\n",
       "    </tr>\n",
       "    <tr>\n",
       "      <th>std</th>\n",
       "      <td>887.816815</td>\n",
       "      <td>79773.753520</td>\n",
       "      <td>NaN</td>\n",
       "      <td>0.350718</td>\n",
       "      <td>8.272221</td>\n",
       "      <td>8.275806</td>\n",
       "      <td>0.379249</td>\n",
       "      <td>4.510210</td>\n",
       "      <td>6.059057</td>\n",
       "      <td>5.841699</td>\n",
       "      <td>...</td>\n",
       "      <td>49.035788</td>\n",
       "      <td>0.0</td>\n",
       "      <td>0.0</td>\n",
       "      <td>0.0</td>\n",
       "      <td>0.0</td>\n",
       "      <td>0.0</td>\n",
       "      <td>0.0</td>\n",
       "      <td>0.0</td>\n",
       "      <td>0.0</td>\n",
       "      <td>0.0</td>\n",
       "    </tr>\n",
       "  </tbody>\n",
       "</table>\n",
       "<p>8 rows × 57 columns</p>\n",
       "</div>"
      ],
      "text/plain": [
       "          LocationId      ProductId             ValidationDateTime  \\\n",
       "count  135847.000000  135847.000000                         135847   \n",
       "mean     1669.974317  422605.196604  2023-06-30 16:14:03.369272576   \n",
       "min        63.000000  288312.000000     2023-06-01 14:44:35.147000   \n",
       "25%       873.000000  357870.000000            2023-06-19 14:58:12   \n",
       "50%      1736.000000  425848.000000            2023-07-02 15:00:46   \n",
       "75%      2553.000000  485344.000000            2023-07-12 15:15:56   \n",
       "max      2950.000000  576749.000000     2023-07-21 17:22:26.517000   \n",
       "std       887.816815   79773.753520                            NaN   \n",
       "\n",
       "         Probability        Column6        Column7        Column8  \\\n",
       "count  135667.000000  135847.000000  135847.000000  107830.000000   \n",
       "mean        0.670913       4.946373       4.041341       0.352331   \n",
       "min        -1.000000       0.000000      -2.000000       0.000000   \n",
       "25%         0.475120       1.000000       0.000000       0.076923   \n",
       "50%         0.755140       3.000000       2.000000       0.250000   \n",
       "75%         0.965797       6.000000       5.000000       0.500000   \n",
       "max         1.000000      89.000000      89.000000       2.000000   \n",
       "std         0.350718       8.272221       8.275806       0.379249   \n",
       "\n",
       "            Column11       Column12      Column13  ...       Column57  \\\n",
       "count  135847.000000  135847.000000  40566.000000  ...  135846.000000   \n",
       "mean        4.379663      20.512510      4.453248  ...      61.360668   \n",
       "min         0.035714       0.000000      0.000000  ...       0.200000   \n",
       "25%         2.214286      17.000000      2.058824  ...      26.990000   \n",
       "50%         3.464286      22.000000      3.166667  ...      50.990002   \n",
       "75%         5.250000      26.000000      5.100000  ...      78.230001   \n",
       "max       386.107147      28.000000    386.190491  ...    1650.000000   \n",
       "std         4.510210       6.059057      5.841699  ...      49.035788   \n",
       "\n",
       "       Column58  Column59  Column60  Column61  Column62  Column63  Column64  \\\n",
       "count  135846.0  135846.0  135846.0  135846.0  135846.0  135846.0  135846.0   \n",
       "mean        0.0       0.0       0.0       0.0       1.0       0.0       0.0   \n",
       "min         0.0       0.0       0.0       0.0       1.0       0.0       0.0   \n",
       "25%         0.0       0.0       0.0       0.0       1.0       0.0       0.0   \n",
       "50%         0.0       0.0       0.0       0.0       1.0       0.0       0.0   \n",
       "75%         0.0       0.0       0.0       0.0       1.0       0.0       0.0   \n",
       "max         0.0       0.0       0.0       0.0       1.0       0.0       0.0   \n",
       "std         0.0       0.0       0.0       0.0       0.0       0.0       0.0   \n",
       "\n",
       "       Column65  Column67  \n",
       "count  135846.0  135846.0  \n",
       "mean        0.0       0.0  \n",
       "min         0.0       0.0  \n",
       "25%         0.0       0.0  \n",
       "50%         0.0       0.0  \n",
       "75%         0.0       0.0  \n",
       "max         0.0       0.0  \n",
       "std         0.0       0.0  \n",
       "\n",
       "[8 rows x 57 columns]"
      ]
     },
     "execution_count": 118,
     "metadata": {},
     "output_type": "execute_result"
    }
   ],
   "source": [
    "train_df.describe()"
   ]
  },
  {
   "cell_type": "markdown",
   "metadata": {},
   "source": [
    "Полученные данные достаточно сырые с большим количеством пропусков"
   ]
  },
  {
   "cell_type": "markdown",
   "metadata": {},
   "source": [
    "### Строки дубликаты"
   ]
  },
  {
   "cell_type": "code",
   "execution_count": 119,
   "metadata": {},
   "outputs": [
    {
     "data": {
      "text/html": [
       "<div>\n",
       "<style scoped>\n",
       "    .dataframe tbody tr th:only-of-type {\n",
       "        vertical-align: middle;\n",
       "    }\n",
       "\n",
       "    .dataframe tbody tr th {\n",
       "        vertical-align: top;\n",
       "    }\n",
       "\n",
       "    .dataframe thead th {\n",
       "        text-align: right;\n",
       "    }\n",
       "</style>\n",
       "<table border=\"1\" class=\"dataframe\">\n",
       "  <thead>\n",
       "    <tr style=\"text-align: right;\">\n",
       "      <th></th>\n",
       "      <th>LocationId</th>\n",
       "      <th>ProductId</th>\n",
       "      <th>ValidationDateTime</th>\n",
       "      <th>Probability</th>\n",
       "      <th>IsCorrect</th>\n",
       "      <th>Column6</th>\n",
       "      <th>Column7</th>\n",
       "      <th>Column8</th>\n",
       "      <th>Column9</th>\n",
       "      <th>Column10</th>\n",
       "      <th>...</th>\n",
       "      <th>Column58</th>\n",
       "      <th>Column59</th>\n",
       "      <th>Column60</th>\n",
       "      <th>Column61</th>\n",
       "      <th>Column62</th>\n",
       "      <th>Column63</th>\n",
       "      <th>Column64</th>\n",
       "      <th>Column65</th>\n",
       "      <th>Column66</th>\n",
       "      <th>Column67</th>\n",
       "    </tr>\n",
       "  </thead>\n",
       "  <tbody>\n",
       "  </tbody>\n",
       "</table>\n",
       "<p>0 rows × 66 columns</p>\n",
       "</div>"
      ],
      "text/plain": [
       "Empty DataFrame\n",
       "Columns: [LocationId, ProductId, ValidationDateTime, Probability, IsCorrect, Column6, Column7, Column8, Column9, Column10, Column11, Column12, Column13, Column14, Column15, Column16, Column17, Column18, Column19, Column20, Column21, Column22, Column23, Column24, Column25, Column26, Column27, Column28, Column29, Column30, Column31, Column32, Column33, Column34, Column35, Column36, Column37, Column38, Column39, Column40, Column41, Column42, Column43, Column44, Column45, Column46, Column47, Column49, Column50, Column51, Column52, Column53, Column54, Column55, Column56, Column57, Column58, Column59, Column60, Column61, Column62, Column63, Column64, Column65, Column66, Column67]\n",
       "Index: []\n",
       "\n",
       "[0 rows x 66 columns]"
      ]
     },
     "execution_count": 119,
     "metadata": {},
     "output_type": "execute_result"
    }
   ],
   "source": [
    "# Смотрим дубликаты\n",
    "train_df[train_df.duplicated]"
   ]
  },
  {
   "cell_type": "markdown",
   "metadata": {},
   "source": [
    "### Пустые и константные признаки"
   ]
  },
  {
   "cell_type": "code",
   "execution_count": 120,
   "metadata": {},
   "outputs": [],
   "source": [
    "threshold = 1\n",
    "# Создем список константных признаков\n",
    "constant_features = [\n",
    "    feature for feature in train_df.columns if train_df[feature].value_counts(normalize=True).max() >= threshold\n",
    "]\n",
    "# Удаляем константные признаки\n",
    "train_df.drop(columns=constant_features, inplace=True)"
   ]
  },
  {
   "cell_type": "code",
   "execution_count": 121,
   "metadata": {},
   "outputs": [],
   "source": [
    "# Удаляем столбцы, в которых все значения пусты\n",
    "train_df.dropna(axis=1, how='all', inplace=True)"
   ]
  },
  {
   "cell_type": "markdown",
   "metadata": {},
   "source": [
    "### Признаки с большим количеством пропусков"
   ]
  },
  {
   "cell_type": "code",
   "execution_count": 123,
   "metadata": {},
   "outputs": [
    {
     "name": "stdout",
     "output_type": "stream",
     "text": [
      "Index(['Column13', 'Column20', 'Column22', 'Column28'], dtype='object')\n"
     ]
    }
   ],
   "source": [
    "threshold = 0.5  # 50% порог\n",
    "\n",
    "#  список столбцов с более чем 50% пропусков\n",
    "columns_with_missing_values = train_df.columns[train_df.isnull().mean() > threshold]\n",
    "\n",
    "print(columns_with_missing_values)"
   ]
  },
  {
   "cell_type": "code",
   "execution_count": 124,
   "metadata": {},
   "outputs": [
    {
     "name": "stdout",
     "output_type": "stream",
     "text": [
      "Column: Column13\n",
      "117948     4.544333\n",
      "117815     3.000000\n",
      "117813     6.400000\n",
      "117902     2.000000\n",
      "67140      2.733333\n",
      "            ...    \n",
      "81151      2.466667\n",
      "80402     15.555555\n",
      "68471      6.166667\n",
      "68475      1.000000\n",
      "45214      9.333333\n",
      "Name: Column13, Length: 135847, dtype: float64\n",
      "Column: Column20\n",
      "117948   NaN\n",
      "117815   NaN\n",
      "117813   NaN\n",
      "117902   NaN\n",
      "67140    NaN\n",
      "          ..\n",
      "81151    NaN\n",
      "80402    NaN\n",
      "68471    NaN\n",
      "68475    NaN\n",
      "45214    NaN\n",
      "Name: Column20, Length: 135847, dtype: float64\n",
      "Column: Column22\n",
      "117948   NaN\n",
      "117815   NaN\n",
      "117813   NaN\n",
      "117902   NaN\n",
      "67140    NaN\n",
      "          ..\n",
      "81151    NaN\n",
      "80402    NaN\n",
      "68471    NaN\n",
      "68475    NaN\n",
      "45214    NaN\n",
      "Name: Column22, Length: 135847, dtype: float64\n",
      "Column: Column28\n",
      "117948    1.380952\n",
      "117815    1.500000\n",
      "117813    1.888889\n",
      "117902         NaN\n",
      "67140     0.857143\n",
      "            ...   \n",
      "81151     1.166667\n",
      "80402     3.666667\n",
      "68471          NaN\n",
      "68475          NaN\n",
      "45214          NaN\n",
      "Name: Column28, Length: 135847, dtype: float64\n"
     ]
    }
   ],
   "source": [
    "# Вывести значения столбцов с более чем 50% пропусков\n",
    "for column in columns_with_missing_values:\n",
    "    print(f\"Column: {column}\")\n",
    "    print(train_df[column])"
   ]
  },
  {
   "cell_type": "code",
   "execution_count": 125,
   "metadata": {},
   "outputs": [
    {
     "name": "stdout",
     "output_type": "stream",
     "text": [
      "Column: Column13\n",
      "[ 4.54433346  3.          6.4000001  ...  3.0434444   3.78841662\n",
      " 15.55555534]\n",
      "\n",
      "Column: Column20\n",
      "[nan 18.  4. 11.  6.  7. 26. 27. 15.  1.  8. 22. 21. 19. 20.  5.  2. 12.\n",
      "  9. 28. 16. 23. 13. 24.  3. 17. 29. 10. 14. 25. 30. 31. 32. 33. 34. 35.\n",
      " 36. 37. 38. 39. 40. 41. 42. 43. 44. 45. 46. 47. 48. 49. 50. 51. 52. 53.\n",
      " 54. 56. 57. 58. 59. 60. 61. 55. 63. 64. 65. 66. 67. 68. 62. 69. 70. 71.\n",
      " 72. 73. 74. 76.]\n",
      "\n",
      "Column: Column22\n",
      "[       nan 1.         0.83333331 0.75       0.93333334 0.94444442\n",
      " 0.90909094 0.94736844 0.875      0.9375     0.91666669 0.80000001\n",
      " 0.89999998 0.92307693 0.85714287 0.8888889  0.95833331 0.66666669\n",
      " 0.94117647 0.9285714  0.5        0.95652175 0.96296299 0.96774191\n",
      " 0.94999999 0.97368419 0.97142857 0.96551722 0.97058821 0.96153843]\n",
      "\n",
      "Column: Column28\n",
      "[1.38095236 1.5        1.88888884        nan 0.85714287 1.47619045\n",
      " 1.73684216 0.73333335 1.36363637 1.32558143 1.60000002 0.92592591\n",
      " 1.26086962 1.         1.16666663 0.79310346 1.08000004 6.\n",
      " 2.25       1.43902445 1.27272725 2.05882359 4.5999999  3.66666675\n",
      " 1.22222221 1.66666663 0.93103451 1.33333337 1.15384614 3.\n",
      " 1.5454545  1.07407403 1.43478262 1.79999995 1.24000001 3.57142854\n",
      " 2.11111116 1.94736838 0.80645162 0.86666667 2.29411769 1.173913\n",
      " 8.33333302 1.07692313 1.84210527 1.70000005 0.9285714  1.57142854\n",
      " 1.25       2.         3.28571439 1.15999997 1.4545455  2.17647052\n",
      " 1.34782612 0.80000001 0.86206895 4.         2.375      1.08333337\n",
      " 1.77777779 0.92307693 2.125      1.63157892 4.19999981 1.94117641\n",
      " 5.5        0.78571427 0.85185188 2.33333325 2.57142854 5.\n",
      " 2.5        2.4666667  1.17021275 9.         6.5        1.37209308\n",
      " 1.31818187]\n",
      "\n"
     ]
    }
   ],
   "source": [
    "# Вывести уникальные значения в каждом столбце\n",
    "for column in columns_with_missing_values:\n",
    "    unique_values = train_df[column].unique()\n",
    "    print(f\"Column: {column}\")\n",
    "    print(unique_values)\n",
    "    print()"
   ]
  },
  {
   "cell_type": "markdown",
   "metadata": {},
   "source": [
    "### Добавление новых признаков"
   ]
  },
  {
   "cell_type": "markdown",
   "metadata": {},
   "source": [
    "Временные"
   ]
  },
  {
   "cell_type": "code",
   "execution_count": 138,
   "metadata": {},
   "outputs": [],
   "source": [
    "# TS features\n",
    "\n",
    "train_df['weekday'] = train_df['ValidationDateTime'].apply(lambda x: x.weekday())\n",
    "train_df['day'] = train_df['ValidationDateTime'].apply(lambda x: x.day)\n",
    "train_df['hour'] = train_df['ValidationDateTime'].apply(lambda x: x.hour)\n",
    "\n",
    "test_df['weekday'] = test_df['ValidationDateTime'].apply(lambda x: x.weekday())\n",
    "test_df['day'] = test_df['ValidationDateTime'].apply(lambda x: x.day)\n",
    "test_df['hour'] = test_df['ValidationDateTime'].apply(lambda x: x.hour)\n",
    "\n"
   ]
  },
  {
   "cell_type": "markdown",
   "metadata": {},
   "source": [
    "Из статистики продаж (дата последней продажи и количество проданного)"
   ]
  },
  {
   "cell_type": "markdown",
   "metadata": {},
   "source": [
    "# Матрица корреляции"
   ]
  },
  {
   "cell_type": "markdown",
   "metadata": {},
   "source": [
    "Для построения матрицы корреляции с учетом наличия категориальных признаков используем инструменты библиотеки phik"
   ]
  },
  {
   "cell_type": "code",
   "execution_count": null,
   "metadata": {},
   "outputs": [],
   "source": [
    "cat_features = ['Column12', \n",
    "                'Column18', \n",
    "                'Column19', \n",
    "                'Column21', \n",
    "                'Column24', \n",
    "                'Column25', \n",
    "                'Column45', \n",
    "                'Column46', \n",
    "                'Column47', \n",
    "                'Column49', \n",
    "                'Column50', \n",
    "                'Column51', \n",
    "                'Column52',\n",
    "                'weekday',\n",
    "                'day',\n",
    "                'hour']\n",
    "\n",
    "num_features = list(set(features) - \\\n",
    "                    set(cat_features) - \\\n",
    "                    set(['ValidationDateTime'])) + \\\n",
    "               ['last_sale_hours'] + \\\n",
    "               ['last_sale_units']"
   ]
  },
  {
   "cell_type": "code",
   "execution_count": null,
   "metadata": {},
   "outputs": [],
   "source": [
    "data_corr = new_train[[*features, 'IsCorrect']].phik_matrix(interval_cols=num_features)\n",
    "plot_correlation_matrix(data_corr.values, \n",
    "                            x_labels=data_corr.columns, \n",
    "                            y_labels=data_corr.index, \n",
    "                            vmin=0, vmax=1, color_map=\"Greens\", \n",
    "                            title=r\"correlation $\\phi_K$\", \n",
    "                            fontsize_factor=1, \n",
    "                            figsize=(16, 12))"
   ]
  },
  {
   "cell_type": "markdown",
   "metadata": {},
   "source": [
    "Линейной зависимости с целевой переменной практически нет. Присутствует мультиколлинеарность.<br>\n",
    "При использовании модели catboost устранение мультиколлинеарности не является необходимостью"
   ]
  },
  {
   "cell_type": "markdown",
   "metadata": {},
   "source": [
    "# Обучение моделей предсказания"
   ]
  },
  {
   "cell_type": "markdown",
   "metadata": {},
   "source": [
    "### Обучение модели на тестовых данных с выделением валидационной выборки"
   ]
  },
  {
   "cell_type": "code",
   "execution_count": 127,
   "metadata": {},
   "outputs": [],
   "source": [
    "# Определяем целевую переменную\n",
    "target = 'IsCorrect'\n",
    "\n",
    "# Разделяем данные\n",
    "train_data = train_df[train_df['ValidationDateTime'] < '2023-07-15']\n",
    "test_data = train_df[train_df['ValidationDateTime'] >= '2023-07-15']"
   ]
  },
  {
   "cell_type": "code",
   "execution_count": 128,
   "metadata": {},
   "outputs": [],
   "source": [
    "columns_to_exclude = ['ValidationDateTime']\n",
    "\n",
    "# SimpleImputer с выбранным методом заполнени\n",
    "imputer = SimpleImputer(strategy='median')\n",
    "\n",
    "# SimpleImputer train\n",
    "numerical_columns = [col for col in train_data.columns if col not in columns_to_exclude]\n",
    "train_data[numerical_columns] = imputer.fit_transform(train_data[numerical_columns])\n",
    "\n",
    "# SimpleImputer test\n",
    "numerical_columns = [col for col in test_data.columns if col not in columns_to_exclude]\n",
    "test_data[numerical_columns] = imputer.fit_transform(test_data[numerical_columns])"
   ]
  },
  {
   "cell_type": "code",
   "execution_count": 129,
   "metadata": {},
   "outputs": [
    {
     "name": "stdout",
     "output_type": "stream",
     "text": [
      "Размер train_data: (110912, 56)\n",
      "Размер test_data: (24935, 56)\n",
      "Размер train_df: (135847, 56)\n"
     ]
    }
   ],
   "source": [
    "print(\"Размер train_data:\", train_data.shape)\n",
    "print(\"Размер test_data:\", test_data.shape)\n",
    "print(\"Размер train_df:\", train_df.shape)\n"
   ]
  },
  {
   "cell_type": "code",
   "execution_count": 130,
   "metadata": {},
   "outputs": [
    {
     "name": "stdout",
     "output_type": "stream",
     "text": [
      "train_data составляет 81.64% от train_df_filled\n",
      "test_data составляет 18.36% от train_df_filled\n"
     ]
    }
   ],
   "source": [
    "train_data_percent = (train_data.shape[0] / train_df.shape[0]) * 100\n",
    "test_data_percent = (test_data.shape[0] / train_df.shape[0]) * 100\n",
    "\n",
    "print(\"train_data составляет {:.2f}% от train_df_filled\".format(train_data_percent))\n",
    "print(\"test_data составляет {:.2f}% от train_df_filled\".format(test_data_percent))"
   ]
  },
  {
   "cell_type": "code",
   "execution_count": 131,
   "metadata": {},
   "outputs": [
    {
     "data": {
      "text/plain": [
       "<catboost.core.CatBoostClassifier at 0x1eef01b1150>"
      ]
     },
     "execution_count": 131,
     "metadata": {},
     "output_type": "execute_result"
    }
   ],
   "source": [
    "features = [col for col in train_data.columns if col != target]\n",
    "\n",
    "# Создаем и обучаем модель CatBoost\n",
    "model = CatBoostClassifier(iterations=700, learning_rate=0.07, depth=8, random_state=42, verbose=False)\n",
    "model.fit(train_data[features], train_data[target])"
   ]
  },
  {
   "cell_type": "code",
   "execution_count": 132,
   "metadata": {},
   "outputs": [
    {
     "name": "stdout",
     "output_type": "stream",
     "text": [
      "AUC-ROC Score на тестовых данных: 0.8118617868839677\n"
     ]
    }
   ],
   "source": [
    "predictions = model.predict(test_data[features])\n",
    "\n",
    "# Предсказание вероятности наличия товара на полке на тестовом наборе\n",
    "test_data['CalculatedProbability'] = model.predict_proba(test_data[features])[:, 1]\n",
    "\n",
    "# Вычислите AUC-ROC на тестовом наборе\n",
    "roc_auc = roc_auc_score(test_data[target], model.predict_proba(test_data[features])[:, 1])\n",
    "print(\"AUC-ROC Score на тестовых данных:\", roc_auc)\n"
   ]
  },
  {
   "cell_type": "code",
   "execution_count": 133,
   "metadata": {},
   "outputs": [
    {
     "data": {
      "image/png": "[encoded data removed]",
      "text/plain": [
       "<Figure size 640x480 with 2 Axes>"
      ]
     },
     "metadata": {},
     "output_type": "display_data"
    }
   ],
   "source": [
    "cm = confusion_matrix(test_data[target], predictions)\n",
    "sns.heatmap(cm, \n",
    "            annot=True, \n",
    "            fmt='.0f',\n",
    "            cmap='GnBu')\n",
    "plt.title('Матрица ошибок')\n",
    "plt.xlabel('Предсказания')\n",
    "plt.ylabel('Текущие зачения');"
   ]
  },
  {
   "cell_type": "code",
   "execution_count": 219,
   "metadata": {},
   "outputs": [],
   "source": [
    "test_data[['LocationId', \n",
    "           'ProductId', \n",
    "           'ValidationDateTime', \n",
    "           'CalculatedProbability']].to_csv('Podval_test.csv', \n",
    "                                            sep=';', \n",
    "                                            index=False)"
   ]
  },
  {
   "cell_type": "markdown",
   "metadata": {},
   "source": [
    "### Обучение модели на тестовых данных с выделением валидационной выборки"
   ]
  },
  {
   "cell_type": "code",
   "execution_count": null,
   "metadata": {},
   "outputs": [],
   "source": [
    "test_data"
   ]
  },
  {
   "cell_type": "code",
   "execution_count": 141,
   "metadata": {},
   "outputs": [],
   "source": [
    "train_data = train_df\n",
    "test_data = test_df[train_df.columns]\n",
    "test_data['IsCorrect'] = 0"
   ]
  },
  {
   "cell_type": "code",
   "execution_count": 142,
   "metadata": {},
   "outputs": [],
   "source": [
    "columns_to_exclude = ['ValidationDateTime']\n",
    "\n",
    "# SimpleImputer с выбранным методом заполнени\n",
    "imputer = SimpleImputer(strategy='median')\n",
    "\n",
    "# SimpleImputer train\n",
    "numerical_columns = [col for col in train_data.columns if col not in columns_to_exclude]\n",
    "train_data[numerical_columns] = imputer.fit_transform(train_data[numerical_columns])\n",
    "\n",
    "# SimpleImputer test\n",
    "numerical_columns = [col for col in test_data.columns if col not in columns_to_exclude]\n",
    "test_data[numerical_columns] = imputer.fit_transform(test_data[numerical_columns])"
   ]
  },
  {
   "cell_type": "code",
   "execution_count": 143,
   "metadata": {},
   "outputs": [
    {
     "name": "stdout",
     "output_type": "stream",
     "text": [
      "Размер train_data: (135847, 56)\n",
      "Размер test_data: (40771, 56)\n",
      "Размер train_df: (135847, 56)\n"
     ]
    }
   ],
   "source": [
    "print(\"Размер train_data:\", train_data.shape)\n",
    "print(\"Размер test_data:\", test_data.shape)\n",
    "print(\"Размер train_df:\", train_df.shape)"
   ]
  },
  {
   "cell_type": "code",
   "execution_count": 144,
   "metadata": {},
   "outputs": [
    {
     "data": {
      "text/plain": [
       "<catboost.core.CatBoostClassifier at 0x1eeeb8d8510>"
      ]
     },
     "execution_count": 144,
     "metadata": {},
     "output_type": "execute_result"
    }
   ],
   "source": [
    "features = [col for col in train_data.columns if col != target]\n",
    "\n",
    "# Создаем и обучаем модель CatBoost\n",
    "model = CatBoostClassifier(iterations=700, learning_rate=0.07, depth=8, random_state=42, verbose=False)\n",
    "model.fit(train_data[features], train_data[target])"
   ]
  },
  {
   "cell_type": "code",
   "execution_count": 145,
   "metadata": {},
   "outputs": [],
   "source": [
    "predictions = model.predict(test_data[features])\n",
    "\n",
    "# Предсказание вероятности наличия товара на полке на тестовом наборе\n",
    "test_data['CalculatedProbability'] = model.predict_proba(test_data[features])[:, 1]"
   ]
  },
  {
   "cell_type": "code",
   "execution_count": 146,
   "metadata": {},
   "outputs": [],
   "source": [
    "test_data[['LocationId', \n",
    "           'ProductId', \n",
    "           'ValidationDateTime', \n",
    "           'CalculatedProbability']].to_csv('Podval_20.csv', \n",
    "                                            sep=';', \n",
    "                                            index=False)"
   ]
  },
  {
   "cell_type": "markdown",
   "metadata": {},
   "source": [
    "# Вывод"
   ]
  },
  {
   "cell_type": "markdown",
   "metadata": {},
   "source": [
    "По предоставленным заказчиком данным были изучены данные торговой сети, содержащие временные метки по магазинам и товарным позициям, в момент которых выявлялись наличия пустых полок, вероятность данного события, вычисленная заказчиком, а также признаки.<br>\n",
    "Были выявлены и устранены множественные пропуски с помощью устранение неинформативных признаков и заполнения медианным значением. Построена матрица корреляции для выявления линейных связи между признаками между собой, а также с целевой переменной (фактом отсутствия товарной позиции на полке).<br>\n",
    "В качестве модели машинного обучения использовалась модель CatBoost с ручным подбором гиперпараметров. Построена матрица ошибок, для контроля выявления именно отсутвия товара на полке, а не наличия, а также контроля ошибок модели.<br>\n",
    "Метрика AUC-ROC данной модели на валидационной выборке составила 0.811"
   ]
  },
  {
   "cell_type": "code",
   "execution_count": null,
   "metadata": {},
   "outputs": [],
   "source": []
  }
 ],
 "metadata": {
  "kernelspec": {
   "display_name": "Python 3 (ipykernel)",
   "language": "python",
   "name": "python3"
  },
  "language_info": {
   "codemirror_mode": {
    "name": "ipython",
    "version": 3
   },
   "file_extension": ".py",
   "mimetype": "text/x-python",
   "name": "python",
   "nbconvert_exporter": "python",
   "pygments_lexer": "ipython3",
   "version": "3.11.4"
  }
 },
 "nbformat": 4,
 "nbformat_minor": 4
}
